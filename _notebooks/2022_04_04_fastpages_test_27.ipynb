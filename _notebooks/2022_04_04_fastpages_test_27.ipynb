{
  "nbformat": 4,
  "nbformat_minor": 0,
  "metadata": {
    "colab": {
      "name": "2022-04-04-fastpages_test.ipynb",
      "provenance": []
    },
    "kernelspec": {
      "name": "python3",
      "display_name": "Python 3"
    },
    "language_info": {
      "name": "python"
    }
  },
  "cells": [
    {
      "cell_type": "markdown",
      "source": [
        "# \"Test_4_4\"\n",
        "> \"some tests\"\n",
        "\n",
        "- toc: false\n",
        "- branch: master\n",
        "- badges: true\n",
        "- comments: true\n",
        "- categories: [fastpages, jupyter]\n",
        "- hide: false\n",
        "- search_exclude: true\n",
        "- metadata_key1: metadata_value1\n",
        "- metadata_key2: metadata_value2"
      ],
      "metadata": {
        "id": "j9qhVPw-lP4U"
      }
    },
    {
      "cell_type": "code",
      "execution_count": 4,
      "metadata": {
        "id": "xXl8CwCtlDme",
        "colab": {
          "base_uri": "https://localhost:8080/"
        },
        "outputId": "64df493c-8a05-45f2-93be-a042fff58be0"
      },
      "outputs": [
        {
          "output_type": "stream",
          "name": "stdout",
          "text": [
            "somechanges\n"
          ]
        }
      ],
      "source": [
        "# some changes @ 4:27pm\n",
        "def somechanges():\n",
        "    print('somechanges')\n",
        "somechanges()"
      ]
    }
  ]
}